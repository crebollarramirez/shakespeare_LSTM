{
 "cells": [
  {
   "cell_type": "code",
   "execution_count": null,
   "metadata": {},
   "outputs": [],
   "source": [
    "import torch\n",
    "from utils import encode_text, generate_text"
   ]
  },
  {
   "cell_type": "code",
   "execution_count": null,
   "metadata": {},
   "outputs": [],
   "source": [
    "import os\n",
    "\n",
    "input_file = \"tiny_shakespeare.txt\"\n",
    "device = torch.device(\"cuda\" if torch.cuda.is_available() else \"cpu\")\n",
    "\n",
    "encoded_text, vocab_size, char_to_idx, idx_to_char = encode_text(input_file)\n",
    "\n",
    "os.makedirs(\"generated_text\", exist_ok=True)\n",
    "os.makedirs(\"models\", exist_ok=True)\n",
    "\n",
    "# Load best model\n",
    "model_path = \"models/128_lstm_config\"  # put best model here\n",
    "model = torch.load(model_path, map_location=torch.device(\"cpu\"))"
   ]
  },
  {
   "cell_type": "code",
   "execution_count": null,
   "metadata": {},
   "outputs": [],
   "source": [
    "generated_high = generate_text(\n",
    "    model, device, char_to_idx, idx_to_char, max_len=1000, temp=0.5\n",
    ")\n",
    "print(generated_high)\n",
    "\n",
    "with open(\"generated_text/generated_high.txt\", \"w\") as f:\n",
    "    f.write(generated_high)"
   ]
  },
  {
   "cell_type": "code",
   "execution_count": null,
   "metadata": {},
   "outputs": [],
   "source": [
    "generated_med = generate_text(\n",
    "    model, device, char_to_idx, idx_to_char, max_len=1000, temp=1\n",
    ")\n",
    "print(generated_med)\n",
    "\n",
    "with open(\"generated_text/generated_med.txt\", \"w\") as f:\n",
    "    f.write(generated_med)"
   ]
  },
  {
   "cell_type": "code",
   "execution_count": null,
   "metadata": {},
   "outputs": [],
   "source": [
    "generated_low = generate_text(\n",
    "    model, device, char_to_idx, idx_to_char, max_len=1000, temp=2\n",
    ")\n",
    "print(generated_low)\n",
    "\n",
    "with open(\"generated_text/generated_low.txt\", \"w\") as f:\n",
    "    f.write(generated_low)"
   ]
  }
 ],
 "metadata": {
  "kernelspec": {
   "display_name": "creepy",
   "language": "python",
   "name": "python3"
  },
  "language_info": {
   "codemirror_mode": {
    "name": "ipython",
    "version": 3
   },
   "file_extension": ".py",
   "mimetype": "text/x-python",
   "name": "python",
   "nbconvert_exporter": "python",
   "pygments_lexer": "ipython3",
   "version": "3.10.18"
  }
 },
 "nbformat": 4,
 "nbformat_minor": 4
}
